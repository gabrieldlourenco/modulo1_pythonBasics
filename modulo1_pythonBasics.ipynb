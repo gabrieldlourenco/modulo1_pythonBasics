{
 "cells": [
  {
   "cell_type": "code",
   "execution_count": 6,
   "id": "a47d517b",
   "metadata": {},
   "outputs": [
    {
     "name": "stdout",
     "output_type": "stream",
     "text": [
      "Bem vindo a calculadora de desconto de 15%.\n",
      "insira o valor inteiro ao qual será a base do desconto130.3\n",
      "O valor base é:  130.3\n",
      "O novo valor É  110.76\n"
     ]
    }
   ],
   "source": [
    "#EXERCICIO 1: Faça um programa que peça um valor monetário e diminua-o em 15%. Seu\n",
    "#programa deve imprimir a mensagem “O novo valor é [valor]”.\n",
    "\n",
    "print('Bem vindo a calculadora de desconto de 15%.')\n",
    "valor = input('insira o valor inteiro ao qual será a base do desconto')\n",
    "valor = float(valor)\n",
    "print('O valor base é: ' , valor)\n",
    "novovalor = round((float(valor * 0.85)),2)\n",
    "\n",
    "print('O novo valor É ', novovalor)"
   ]
  },
  {
   "cell_type": "code",
   "execution_count": 40,
   "id": "b0d7fa5a",
   "metadata": {},
   "outputs": [
    {
     "name": "stdout",
     "output_type": "stream",
     "text": [
      "Teste de validade por cadastro\n",
      "Digite uma idade entre 0 e 150 anos: -1\n",
      "Valor inválido. Digite uma idade entre 0 e 150 anos: 10\n",
      "idade válida\n",
      "Insira o valor do salario: -1\n",
      "Insira um valor válido de salario: 300\n",
      "Valor válido de salario\n",
      "Insira o sexo usando os valores: M ou F ou Outrosg\n",
      "Valor inválido. Digite um sexo válido: M, F, Outros: M\n",
      "cadastro realizado com sucesso\n"
     ]
    }
   ],
   "source": [
    "#EXERCICIO 2: Faça um programa que leia a validade das informações:\n",
    "# a. Idade: entre 0 e 150;\n",
    "# b. Salário: maior que 0;\n",
    "# c. Sexo: M, F ou Outro;\n",
    "\n",
    "print('Teste de validade por cadastro')\n",
    "\n",
    "idade = int(input('Digite uma idade entre 0 e 150 anos: '))\n",
    "while idade not in range(0,150):\n",
    "    idade = int(input('Valor inválido. Digite uma idade entre 0 e 150 anos: '))\n",
    "\n",
    "print('idade válida') \n",
    "salario = round(float(input('Insira o valor do salario: ')),2)\n",
    "while salario < 0:\n",
    "    salario = round(float(input('Insira um valor válido de salario: ')),2)\n",
    "\n",
    "print('Valor válido de salario')\n",
    "\n",
    "sexos = ('M','F','Outro')\n",
    "sexo = input('Insira o sexo usando os valores: M ou F ou Outros')\n",
    "while sexo.upper() not in sexos:\n",
    "    sexo = input('Valor inválido. Digite um sexo válido: M, F, Outros: ')\n",
    "    \n",
    "print('cadastro realizado com sucesso')"
   ]
  },
  {
   "cell_type": "code",
   "execution_count": 77,
   "id": "7769fc09",
   "metadata": {},
   "outputs": [
    {
     "name": "stdout",
     "output_type": "stream",
     "text": [
      "programa de identificação de vitimas, responda as perguntas apenas com \"sim\" ou \"nao\" (Sem acento)\n",
      "Mora perto da vítima?sim\n",
      "Já trabalhou com a vítima?sim\n",
      "Telefonou para a vítima?sim\n",
      "Esteve no local do crime?sim\n",
      "Devia para a vítima?sim\n",
      " A pontuação foi de : 5\n",
      "Assassino\n"
     ]
    }
   ],
   "source": [
    "#EXERCICIO 3 - Vamos fazer um programa para verificar quem é o assassino de um crime.\n",
    "#Para descobrir o assassino, a polícia faz um pequeno questionário com 5\n",
    "#perguntas onde a resposta só pode ser sim ou não:\n",
    "\n",
    "# a. Mora perto da vítima?\n",
    "# b. Já trabalhou com a vítima?\n",
    "# c. Telefonou para a vítima?\n",
    "# d. Esteve no local do crime?\n",
    "# e. Devia para a vítima?\n",
    "\n",
    "#Cada resposta sim dá um ponto para o suspeito. A polícia considera que os\n",
    "#suspeitos com 5 pontos são os assassinos, com 4 a 3 pontos são cúmplices e\n",
    "#2 pontos são apenas suspeitos, necessitando outras investigações. Valores\n",
    "#iguais ou abaixo de 1 são liberados.\n",
    "\n",
    "print('programa de identificação de vitimas, responda as perguntas apenas com \"sim\" ou \"nao\" (Sem acento)')\n",
    "respostas = ('sim','nao')\n",
    "\n",
    "#############################################CONTROLE DE ENTRADAS\n",
    "\n",
    "proximidadegeo = input('Mora perto da vítima?').lower()\n",
    "while proximidadegeo not in respostas:\n",
    "    proximidadegeo = input('Só os valores \"sim\" ou \"nao\" são aceitos.Tente novamente. Mora perto da vítima?').lower()\n",
    "\n",
    "trabalhaCV = input('Já trabalhou com a vítima?').lower()\n",
    "while trabalhaCV not in respostas:\n",
    "    trabalhaCV = input('Só os valores \"sim\" ou \"nao\" são aceitos.Tente novamente.Trabalhou com a vítima?').lower()\n",
    "\n",
    "telefonou = input('Telefonou para a vítima?').lower()    \n",
    "while telefonou not in respostas:\n",
    "    telefonou = input('Só os valores \"sim\" ou \"nao\" são aceitos.Tente novamente.Telefonou para a vítima?').lower()\n",
    "    \n",
    "    \n",
    "localcrime = input('Esteve no local do crime?').lower()\n",
    "while localcrime not in respostas:\n",
    "    localcrime = input('Só os valores \"sim\" ou \"nao\" são aceitos.Tente novamente.Esteve no local do crime?').Lower()\n",
    "    \n",
    "divida = input('Devia para a vítima?').lower()\n",
    "while divida not in respostas:\n",
    "    divida = input('Só os valores \"sim\" ou \"nao\" são aceitos.Tente novamente.Devia para a vítima?').lower()\n",
    "    \n",
    "    \n",
    "#############################################CALCULANDO A PONTUAÇÂO\n",
    "    \n",
    "bolproximidadegeo = proximidadegeo == 'sim'\n",
    "boltrabalhaCV = trabalhaCV == 'sim'\n",
    "boltelefonou = telefonou == 'sim'\n",
    "bollocalcrime = localcrime == 'sim'\n",
    "boldivida = divida == 'sim'\n",
    "\n",
    "pontuacao = bolproximidadegeo + boltrabalhaCV + boltelefonou + bollocalcrime + boldivida\n",
    "print( ' A pontuação foi de :', pontuacao)\n",
    "\n",
    "############################################RESOLUÇÂO DO PROBLEMA\n",
    "\n",
    "if pontuacao == 5:\n",
    "    print('Assassino')\n",
    "elif pontuacao >=3:\n",
    "    print('Cúmplice')\n",
    "elif pontuacao == 2:\n",
    "    print('suspeito')\n",
    "else:\n",
    "    print('liberado')"
   ]
  },
  {
   "cell_type": "code",
   "execution_count": null,
   "id": "3ad1b4fd",
   "metadata": {},
   "outputs": [
    {
     "name": "stdout",
     "output_type": "stream",
     "text": [
      "Bem vindo a taboada\n"
     ]
    }
   ],
   "source": [
    "#Faça um programa que imprima a tabuada do 9 (de 9*1 a 9*10) usando loops.\n",
    "# preferi dar mais flexíbilidade ao programa.\n",
    "\n",
    "print('Bem vindo a taboada')\n",
    "\n",
    "numero = int(input('insira o número ao qual vc quer ver a tabuada: '))\n",
    "count = 0\n",
    "while count <= 10:\n",
    "    resultado = numero*count\n",
    "    print(numero,'x',count, '=',resultado)\n",
    "    count += 1\n",
    "    "
   ]
  },
  {
   "cell_type": "code",
   "execution_count": null,
   "id": "2c816a85",
   "metadata": {},
   "outputs": [],
   "source": []
  }
 ],
 "metadata": {
  "kernelspec": {
   "display_name": "Python 3 (ipykernel)",
   "language": "python",
   "name": "python3"
  },
  "language_info": {
   "codemirror_mode": {
    "name": "ipython",
    "version": 3
   },
   "file_extension": ".py",
   "mimetype": "text/x-python",
   "name": "python",
   "nbconvert_exporter": "python",
   "pygments_lexer": "ipython3",
   "version": "3.10.7"
  }
 },
 "nbformat": 4,
 "nbformat_minor": 5
}
